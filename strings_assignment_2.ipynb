{
  "nbformat": 4,
  "nbformat_minor": 0,
  "metadata": {
    "colab": {
      "provenance": [],
      "toc_visible": true,
      "include_colab_link": true
    },
    "kernelspec": {
      "name": "python3",
      "display_name": "Python 3"
    },
    "language_info": {
      "name": "python"
    }
  },
  "cells": [
    {
      "cell_type": "markdown",
      "metadata": {
        "id": "view-in-github",
        "colab_type": "text"
      },
      "source": [
        "<a href=\"https://colab.research.google.com/github/shivani378/CODETECH-Task1/blob/main/strings_assignment_2.ipynb\" target=\"_parent\"><img src=\"https://colab.research.google.com/assets/colab-badge.svg\" alt=\"Open In Colab\"/></a>"
      ]
    },
    {
      "cell_type": "markdown",
      "source": [
        "## Strings Assignment 2"
      ],
      "metadata": {
        "id": "EPGLodluvWuN"
      }
    },
    {
      "cell_type": "markdown",
      "source": [
        "1.Write a Python program to reverse a string.\n",
        "\n",
        "input : hellohowareyoudoingandhowisyourhealth"
      ],
      "metadata": {
        "id": "ddM5gMtivkoi"
      }
    },
    {
      "cell_type": "code",
      "source": [
        "def reverse_string(s):\n",
        "    return s[::-1]\n",
        "\n",
        "# Input\n",
        "input_string = \"hellohowareyoudoingandhowisyourhealth\"\n",
        "print(\"Reversed String:\", reverse_string(input_string))\n"
      ],
      "metadata": {
        "id": "RnP576ZZvtLH",
        "colab": {
          "base_uri": "https://localhost:8080/"
        },
        "outputId": "508aeaa4-b678-41b7-c6cf-90188100469b"
      },
      "execution_count": 1,
      "outputs": [
        {
          "output_type": "stream",
          "name": "stdout",
          "text": [
            "Reversed String: htlaehruoysiwohdnagnioduoyerawoholleh\n"
          ]
        }
      ]
    },
    {
      "cell_type": "markdown",
      "source": [
        "2.Write a Python program to capitalize the first letter of each word in a sentence.\n",
        "\n",
        "input : hello welcome to internship"
      ],
      "metadata": {
        "id": "jEVFoo3evnhr"
      }
    },
    {
      "cell_type": "code",
      "source": [
        "def capitalize_words(sentence):\n",
        "    return sentence.title()\n",
        "\n",
        "# Input\n",
        "input_sentence = \"hello welcome to internship\"\n",
        "print(\"Capitalized Sentence:\", capitalize_words(input_sentence))\n"
      ],
      "metadata": {
        "id": "CTP3QwiGwT93",
        "colab": {
          "base_uri": "https://localhost:8080/"
        },
        "outputId": "cbc3f3d9-d68c-4c5f-d4f6-78c60d75bca3"
      },
      "execution_count": 2,
      "outputs": [
        {
          "output_type": "stream",
          "name": "stdout",
          "text": [
            "Capitalized Sentence: Hello Welcome To Internship\n"
          ]
        }
      ]
    },
    {
      "cell_type": "markdown",
      "source": [
        "3.Write a Python program to find the longest word in a sentence.\n",
        "\n",
        "input : \"he is very good at painting and paint good sketches\""
      ],
      "metadata": {
        "id": "LiGvyCoVvnyC"
      }
    },
    {
      "cell_type": "code",
      "source": [
        "def longest_word(sentence):\n",
        "    words = sentence.split()\n",
        "    return max(words, key=len)\n",
        "\n",
        "# Input\n",
        "input_sentence = \"he is very good at painting and paint good sketches\"\n",
        "print(\"Longest Word:\", longest_word(input_sentence))\n"
      ],
      "metadata": {
        "id": "clATuC3cwwPI",
        "colab": {
          "base_uri": "https://localhost:8080/"
        },
        "outputId": "97412430-b86e-4b7f-e946-f0939992ffbe"
      },
      "execution_count": 3,
      "outputs": [
        {
          "output_type": "stream",
          "name": "stdout",
          "text": [
            "Longest Word: painting\n"
          ]
        }
      ]
    },
    {
      "cell_type": "markdown",
      "source": [
        "4.Write a Python program to find the length of the last word in a sentence.\n",
        "\n",
        "input : this is the most beautiful beach I ever visited"
      ],
      "metadata": {
        "id": "-QhCplQjvn0w"
      }
    },
    {
      "cell_type": "code",
      "source": [
        "def length_of_last_word(sentence):\n",
        "    words = sentence.split()\n",
        "    return len(words[-1])\n",
        "\n",
        "# Input\n",
        "input_sentence = \"this is the most beautiful beach I ever visited\"\n",
        "print(\"Length of the Last Word:\", length_of_last_word(input_sentence))\n"
      ],
      "metadata": {
        "id": "QwzbahlkxGZ-",
        "colab": {
          "base_uri": "https://localhost:8080/"
        },
        "outputId": "56ece45f-c093-452c-f722-1e5b04f4cf52"
      },
      "execution_count": 4,
      "outputs": [
        {
          "output_type": "stream",
          "name": "stdout",
          "text": [
            "Length of the Last Word: 7\n"
          ]
        }
      ]
    },
    {
      "cell_type": "markdown",
      "source": [
        "5.Write a Python program to find the second most frequent character in a string.\n",
        "\n",
        "input: the hospital is very big and this hospital has so many doctors"
      ],
      "metadata": {
        "id": "cZiXxZhsvn6q"
      }
    },
    {
      "cell_type": "code",
      "source": [
        "from collections import Counter\n",
        "\n",
        "def second_most_frequent_char(string):\n",
        "    # Count the frequency of each character in the string\n",
        "    freq = Counter(string)\n",
        "    # Get the most common characters in order\n",
        "    most_common = freq.most_common()\n",
        "\n",
        "    # If there's more than one unique character\n",
        "    if len(most_common) > 1:\n",
        "        return most_common[1][0]\n",
        "    return None\n",
        "\n",
        "# Input\n",
        "input_string = \"the hospital is very big and this hospital has so many doctors\"\n",
        "print(\"Second Most Frequent Character:\", second_most_frequent_char(input_string))\n"
      ],
      "metadata": {
        "id": "EnHquuoCxi7F",
        "colab": {
          "base_uri": "https://localhost:8080/"
        },
        "outputId": "7c3788ac-c00c-4092-bb18-7cd0ca16a291"
      },
      "execution_count": 5,
      "outputs": [
        {
          "output_type": "stream",
          "name": "stdout",
          "text": [
            "Second Most Frequent Character: s\n"
          ]
        }
      ]
    }
  ]
}